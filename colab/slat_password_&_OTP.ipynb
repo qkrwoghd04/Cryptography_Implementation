{
  "nbformat": 4,
  "nbformat_minor": 0,
  "metadata": {
    "colab": {
      "provenance": [],
      "authorship_tag": "ABX9TyMX49s355fBqgfReN5RLyY0",
      "include_colab_link": true
    },
    "kernelspec": {
      "name": "python3",
      "display_name": "Python 3"
    },
    "language_info": {
      "name": "python"
    }
  },
  "cells": [
    {
      "cell_type": "markdown",
      "metadata": {
        "id": "view-in-github",
        "colab_type": "text"
      },
      "source": [
        "<a href=\"https://colab.research.google.com/github/qkrwoghd04/Cryptography_Implementation/blob/main/colab/slat_password_%26_OTP.ipynb\" target=\"_parent\"><img src=\"https://colab.research.google.com/assets/colab-badge.svg\" alt=\"Open In Colab\"/></a>"
      ]
    },
    {
      "cell_type": "markdown",
      "source": [
        "# L6. weakness of password using a hash\n",
        "- ### 비밀번호에 hash를 적용할때, <br> A와 B라는 서로 다른 User가 같은 비밀번호를 사용한다면, 같은 hash 값이 도출되므로, attacker는 가능한 모든 비밀번호를 추측해서 hash값을 저장해놓은 dictionary를 만들어 공격합니다."
      ],
      "metadata": {
        "id": "hDPumt4vUCTS"
      }
    },
    {
      "cell_type": "code",
      "execution_count": 5,
      "metadata": {
        "id": "DMt5-r3WT9mo"
      },
      "outputs": [],
      "source": [
        "import hashlib\n",
        "import os"
      ]
    },
    {
      "cell_type": "code",
      "source": [
        "password1 = \"password\"\n",
        "hashed_password = hashlib.sha256(password.encode()).hexdigest()\n",
        "\n",
        "print(\"password 1: \",hashed_password)"
      ],
      "metadata": {
        "colab": {
          "base_uri": "https://localhost:8080/"
        },
        "id": "wesegKKTVT3U",
        "outputId": "3bd432ec-1443-4407-cae9-368a0368dfcb"
      },
      "execution_count": 14,
      "outputs": [
        {
          "output_type": "stream",
          "name": "stdout",
          "text": [
            "password 1:  5e884898da28047151d0e56f8dc6292773603d0d6aabbdd62a11ef721d1542d8\n"
          ]
        }
      ]
    },
    {
      "cell_type": "code",
      "source": [
        "password2 = \"password\"\n",
        "hashed_password2 = hashlib.sha256(password2.encode()).hexdigest()\n",
        "\n",
        "print(\"password 2: \",hashed_password2)"
      ],
      "metadata": {
        "colab": {
          "base_uri": "https://localhost:8080/"
        },
        "id": "leFn3oulVeGz",
        "outputId": "e2244ff7-d553-4189-8cf5-c4f80792eddc"
      },
      "execution_count": 15,
      "outputs": [
        {
          "output_type": "stream",
          "name": "stdout",
          "text": [
            "password 2:  5e884898da28047151d0e56f8dc6292773603d0d6aabbdd62a11ef721d1542d8\n"
          ]
        }
      ]
    },
    {
      "cell_type": "markdown",
      "source": [
        "- ### 위와 같이 다른 password & password2 에 대해서 같은 hash값을 출력하는 것을 볼 수 있습니다.\n",
        "- ### 이에 대한 해결책으로 **salted password**를 사용할 수 있습니다."
      ],
      "metadata": {
        "id": "Ak-IRuTzVifg"
      }
    },
    {
      "cell_type": "code",
      "source": [
        "hashed_password_salt = \"password\" # 원래 비밀번호\n",
        "slat = os.urandom(16) # 랜덤 16bit slat\n",
        "slat_hashed = slat + hashed_password_salt.encode()\n",
        "\n",
        "print(\"slat: \",slat)\n",
        "print(\"slat + password: \", slat_hashed)"
      ],
      "metadata": {
        "colab": {
          "base_uri": "https://localhost:8080/"
        },
        "id": "AXYmBbbvVx-k",
        "outputId": "ea915b9b-78a3-4572-9a0e-1200b9083d97"
      },
      "execution_count": 12,
      "outputs": [
        {
          "output_type": "stream",
          "name": "stdout",
          "text": [
            "slat:  b'{\\xa9\\xb0\\xa0.\\x00%\\xa6\\x84\\xfe\\xaeAjxU\\x14'\n",
            "slat + password:  b'{\\xa9\\xb0\\xa0.\\x00%\\xa6\\x84\\xfe\\xaeAjxU\\x14password'\n"
          ]
        }
      ]
    },
    {
      "cell_type": "code",
      "source": [
        "hashed_password_salt = hashlib.sha256(slat_hashed).hexdigest()\n",
        "\n",
        "\n",
        "print(\"slated password: \", hashed_password_salt)"
      ],
      "metadata": {
        "colab": {
          "base_uri": "https://localhost:8080/"
        },
        "id": "e3DAu7FKY24O",
        "outputId": "2fa611fd-2aad-4930-8040-ddbfbdf93407"
      },
      "execution_count": 16,
      "outputs": [
        {
          "output_type": "stream",
          "name": "stdout",
          "text": [
            "slated password:  fa4e8211348b232a4f784d21fc9fda25a9ccf6bc9adb947086f73c452e1476aa\n"
          ]
        }
      ]
    },
    {
      "cell_type": "markdown",
      "source": [
        "# OTP(One Tiem Password) system Implementation\n",
        "1. initial password & 횟수(n)을 생성합니다\n",
        "2. 비밀번호를 생성해야합니다. using sha256"
      ],
      "metadata": {
        "id": "-T6nP4Laisnd"
      }
    },
    {
      "cell_type": "code",
      "source": [
        "password = \"initial password\"\n",
        "n = 20"
      ],
      "metadata": {
        "id": "s08iXYN2j3qC"
      },
      "execution_count": 24,
      "outputs": []
    },
    {
      "cell_type": "code",
      "source": [
        "def password_gen(password):\n",
        "  return hashlib.sha256(password.encode()).hexdigest()"
      ],
      "metadata": {
        "id": "kk9dY3KRj68b"
      },
      "execution_count": 38,
      "outputs": []
    },
    {
      "cell_type": "code",
      "source": [
        "def generate_otp(password, n):\n",
        "  otp_list = []\n",
        "  otp = password\n",
        "  for _ in range(n):\n",
        "    otp = password_gen(otp)\n",
        "    otp_list.append(otp)\n",
        "  return otp_list[::-1]\n",
        ""
      ],
      "metadata": {
        "id": "oiF0k6SAkVN_"
      },
      "execution_count": 36,
      "outputs": []
    },
    {
      "cell_type": "code",
      "source": [
        "otp_list = generate_otp(password, n)\n",
        "print(\"초기 otp list: \",otp_list)"
      ],
      "metadata": {
        "colab": {
          "base_uri": "https://localhost:8080/"
        },
        "id": "aB07wOBukuBc",
        "outputId": "793df497-1f08-4120-b786-812f46d684d5"
      },
      "execution_count": 42,
      "outputs": [
        {
          "output_type": "stream",
          "name": "stdout",
          "text": [
            "초기 otp list:  ['cf075cb4139bedce125e1b6fd7ff73ec6ec4cbc77706f74241cf8aecf9bb51e3', '1d95c8e55fc8a1f6f25a0e06675caad19e5a79ba3fd585dcbe552387f4abd164', '9be9268411c1ab08cfcfd526536db9b9ae79fd7c4cfce49fc399a2019ae6c782', 'c8c864a1b7c7dbc77cacc8812d5038cbe9cf9f30462e7ae5e33d1ba62ce28b75', '6e69cd73ea958e4e1f39c001310af97ddea4c4a1cf7dfb36ac965977db85b0e4', 'd143f9aaa6de291dec0a031fe5680f0ec492b4eb01fe4080ed409a4bcd452f3e', 'cfb58945756781f43f2ab1a544b6ae41be8d565e860f0c452a69fc2f6890c2c7', 'b20f5dd4f834b86c5168ffb2c71c0865e7d1b507ba145e775eb4f740c7fc5d1c', '2f2d70e4381169ae5fb5f45982adb5d2250141dee1eaa59ffc4d011da3fea0c8', '781c6f961be9b69b73986789b5066412029ed450739135aaad812a6d69b29653', '0e71a3f5b7ea762f4794652903c9d3436c59989e0e10d5de8d4e56b737900300', 'a1aa1afdad65655801db0de25e395b9f622ae6e6ee1aec242149ebe8e1b0c963', 'd84c052452814f2eae5ac405e55233019e31f073fba1fbcf69ea51778c2c7915', '3b2ceb3565e8c401e3d42450aa03ba9405c3834065688d25cfadeae277a8f3e1', 'e1bb7e3176b1f0e2bc831e217733cbecffd16925fa3e12dc46353c362b5d6b12', '57b171378156824236242fded8e80e86fdb97c26e2d1bd89977136a16fa8dd2f', '37a715ab44ff320db7fafdad17475bec22693a99ad32e9c71f85deecc2db30a7', '6e4120e06c8c419bf46c821e411a2191598468eb97067cb9fcb026bc366582e5', '52356ef1ac851d7cef4d7cc7fee51c5715641fc0e3c6b3d4996349be203cd709', 'd5c74e05d6b419d2b7e74885707e8aafd4f085eb2855ad9aad9bf31efcb9d209']\n"
          ]
        }
      ]
    },
    {
      "cell_type": "code",
      "source": [
        "def verify_otp(otp, otp_list):\n",
        "  if otp == otp_list[0]:\n",
        "    print(\"OTP가 유효합니다.\")\n",
        "    otp_list.pop(0)\n",
        "  else:\n",
        "    print(\"OTP가 유효하지 않습니다.\")"
      ],
      "metadata": {
        "id": "I79s6z30mvED"
      },
      "execution_count": 44,
      "outputs": []
    },
    {
      "cell_type": "code",
      "source": [
        "user_otp = otp_list[0]\n",
        "print(f\"\\n 사용자 OTP 시도: {user_otp}\")\n",
        "verify_otp(user_otp, otp_list)"
      ],
      "metadata": {
        "colab": {
          "base_uri": "https://localhost:8080/"
        },
        "id": "YLCj6HtnnTc4",
        "outputId": "439364f4-1455-43da-b879-2ebaf3d5c648"
      },
      "execution_count": 46,
      "outputs": [
        {
          "output_type": "stream",
          "name": "stdout",
          "text": [
            "\n",
            " 사용자 OTP 시도: cf075cb4139bedce125e1b6fd7ff73ec6ec4cbc77706f74241cf8aecf9bb51e3\n",
            "OTP가 유효합니다.\n"
          ]
        }
      ]
    },
    {
      "cell_type": "code",
      "source": [
        "user_otp = otp_list[0]\n",
        "print(f\"\\n 사용자 OTP 두번째 시도: {user_otp}\")\n",
        "verify_otp(user_otp, otp_list)"
      ],
      "metadata": {
        "colab": {
          "base_uri": "https://localhost:8080/"
        },
        "id": "VqYj5Rs3n1RC",
        "outputId": "23327e88-3eec-4b48-fe2f-1239d353dd98"
      },
      "execution_count": 48,
      "outputs": [
        {
          "output_type": "stream",
          "name": "stdout",
          "text": [
            "\n",
            " 사용자 OTP 두번째 시도: 1d95c8e55fc8a1f6f25a0e06675caad19e5a79ba3fd585dcbe552387f4abd164\n",
            "OTP가 유효합니다.\n"
          ]
        }
      ]
    },
    {
      "cell_type": "code",
      "source": [
        "# 남은 OTP 리스트 출력\n",
        "print(\"\\n남은 OTP 리스트:\")\n",
        "print(otp_list)"
      ],
      "metadata": {
        "colab": {
          "base_uri": "https://localhost:8080/"
        },
        "id": "AxTPwZfqoGX3",
        "outputId": "1267841e-8276-42dc-ea2a-4a52b9dc531d"
      },
      "execution_count": 49,
      "outputs": [
        {
          "output_type": "stream",
          "name": "stdout",
          "text": [
            "\n",
            "남은 OTP 리스트:\n",
            "['9be9268411c1ab08cfcfd526536db9b9ae79fd7c4cfce49fc399a2019ae6c782', 'c8c864a1b7c7dbc77cacc8812d5038cbe9cf9f30462e7ae5e33d1ba62ce28b75', '6e69cd73ea958e4e1f39c001310af97ddea4c4a1cf7dfb36ac965977db85b0e4', 'd143f9aaa6de291dec0a031fe5680f0ec492b4eb01fe4080ed409a4bcd452f3e', 'cfb58945756781f43f2ab1a544b6ae41be8d565e860f0c452a69fc2f6890c2c7', 'b20f5dd4f834b86c5168ffb2c71c0865e7d1b507ba145e775eb4f740c7fc5d1c', '2f2d70e4381169ae5fb5f45982adb5d2250141dee1eaa59ffc4d011da3fea0c8', '781c6f961be9b69b73986789b5066412029ed450739135aaad812a6d69b29653', '0e71a3f5b7ea762f4794652903c9d3436c59989e0e10d5de8d4e56b737900300', 'a1aa1afdad65655801db0de25e395b9f622ae6e6ee1aec242149ebe8e1b0c963', 'd84c052452814f2eae5ac405e55233019e31f073fba1fbcf69ea51778c2c7915', '3b2ceb3565e8c401e3d42450aa03ba9405c3834065688d25cfadeae277a8f3e1', 'e1bb7e3176b1f0e2bc831e217733cbecffd16925fa3e12dc46353c362b5d6b12', '57b171378156824236242fded8e80e86fdb97c26e2d1bd89977136a16fa8dd2f', '37a715ab44ff320db7fafdad17475bec22693a99ad32e9c71f85deecc2db30a7', '6e4120e06c8c419bf46c821e411a2191598468eb97067cb9fcb026bc366582e5', '52356ef1ac851d7cef4d7cc7fee51c5715641fc0e3c6b3d4996349be203cd709', 'd5c74e05d6b419d2b7e74885707e8aafd4f085eb2855ad9aad9bf31efcb9d209']\n"
          ]
        }
      ]
    },
    {
      "cell_type": "markdown",
      "source": [
        "- ### 하지만, 이와같은 횟수가 정해져있는 OTP은 은행등에서 사용하는 OTP의 방식하고는 다릅니다. **은행에서는 시간기반의 OTP 시스템을 구축**하고 있습니다."
      ],
      "metadata": {
        "id": "vIVNWVfvojKh"
      }
    }
  ]
}