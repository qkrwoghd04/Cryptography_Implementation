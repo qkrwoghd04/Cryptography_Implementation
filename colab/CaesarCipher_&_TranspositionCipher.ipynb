{
  "nbformat": 4,
  "nbformat_minor": 0,
  "metadata": {
    "colab": {
      "provenance": [],
      "authorship_tag": "ABX9TyN3J7SsHrGhQ9jOFDICjW/r",
      "include_colab_link": true
    },
    "kernelspec": {
      "name": "python3",
      "display_name": "Python 3"
    },
    "language_info": {
      "name": "python"
    }
  },
  "cells": [
    {
      "cell_type": "markdown",
      "metadata": {
        "id": "view-in-github",
        "colab_type": "text"
      },
      "source": [
        "<a href=\"https://colab.research.google.com/github/qkrwoghd04/Cryptography_Implementation/blob/main/colab/CaesarCipher_%26_TranspositionCipher.ipynb\" target=\"_parent\"><img src=\"https://colab.research.google.com/assets/colab-badge.svg\" alt=\"Open In Colab\"/></a>"
      ]
    },
    {
      "cell_type": "code",
      "source": [
        "from google.colab import drive\n",
        "drive.mount('/content/drive')"
      ],
      "metadata": {
        "id": "BKUesPWu-wVc"
      },
      "execution_count": null,
      "outputs": []
    },
    {
      "cell_type": "markdown",
      "source": [
        "### Caesar Cipher implementation"
      ],
      "metadata": {
        "id": "nGsqwr_u-_Xz"
      }
    },
    {
      "cell_type": "code",
      "source": [
        "import math\n",
        "# Every possible symbol that can be encrypted:\n",
        "SYMBOLS = 'ABCDEFGHIJKLMNOPQRSTUVWXYZabcdefghijklmnopqrstuvwxyz1234567890 !?.+-*/='\n",
        "plaintext = 'welecome to the cryptography!'\n",
        "key = 8\n",
        "mode = ['encrypt', 'decrypt']"
      ],
      "metadata": {
        "id": "xNQqiijV-x4p"
      },
      "execution_count": 50,
      "outputs": []
    },
    {
      "cell_type": "code",
      "source": [
        "def caesarCipher(text, key, mode):\n",
        "  translated = []\n",
        "  for symbol in text:\n",
        "    if symbol in SYMBOLS:\n",
        "      symbolIndex = SYMBOLS.find(symbol)\n",
        "      if(mode == 'encrypt'):\n",
        "          translatedIndex = symbolIndex + key\n",
        "      elif(mode == 'decrypt'):\n",
        "          translatedIndex = symbolIndex - key\n",
        "\n",
        "      # Handle wrap-around, if needed:\n",
        "      if translatedIndex >= len(SYMBOLS):\n",
        "          translatedIndex = translatedIndex - len(SYMBOLS)\n",
        "      elif translatedIndex < 0:\n",
        "          translatedIndex = translatedIndex + len(SYMBOLS)\n",
        "\n",
        "      translated.append(SYMBOLS[translatedIndex])\n",
        "    else:\n",
        "      translated.append(symbol)\n",
        "\n",
        "  return \"\".join(translated)"
      ],
      "metadata": {
        "id": "BPao9xo_--NY"
      },
      "execution_count": 37,
      "outputs": []
    },
    {
      "cell_type": "code",
      "source": [
        "caesarCipher(plaintext, key, mode[0])"
      ],
      "metadata": {
        "colab": {
          "base_uri": "https://localhost:8080/",
          "height": 35
        },
        "id": "dlZdajjeCOSp",
        "outputId": "8a290008-49f6-4f7f-8fd6-631fc7c8c537"
      },
      "execution_count": 38,
      "outputs": [
        {
          "output_type": "execute_result",
          "data": {
            "text/plain": [
              "'5mtmkwum=2w=2pm=kz7x2wozixp7A'"
            ],
            "application/vnd.google.colaboratory.intrinsic+json": {
              "type": "string"
            }
          },
          "metadata": {},
          "execution_count": 38
        }
      ]
    },
    {
      "cell_type": "code",
      "source": [
        "caesarCipher('5mtmkwum=2w=2pm=kz7x2wozixp7A',key, mode[1])"
      ],
      "metadata": {
        "colab": {
          "base_uri": "https://localhost:8080/",
          "height": 35
        },
        "id": "fypNzNYKCWHz",
        "outputId": "d45ae845-bb5f-427e-f312-47ce876e83f5"
      },
      "execution_count": 41,
      "outputs": [
        {
          "output_type": "execute_result",
          "data": {
            "text/plain": [
              "'welecome to the cryptography!'"
            ],
            "application/vnd.google.colaboratory.intrinsic+json": {
              "type": "string"
            }
          },
          "metadata": {},
          "execution_count": 41
        }
      ]
    },
    {
      "cell_type": "markdown",
      "source": [
        "### Hacker가 key값을 모르는 경우"
      ],
      "metadata": {
        "id": "bedwdojOEWaX"
      }
    },
    {
      "cell_type": "code",
      "source": [
        "for i in range(0, 20):\n",
        "  print(caesarCipher('5mtmkwum=2w=2pm=kz7x2wozixp7A', i, mode[1]))"
      ],
      "metadata": {
        "colab": {
          "base_uri": "https://localhost:8080/"
        },
        "id": "lOoTAfNXEb3g",
        "outputId": "ec03e431-4611-4f13-bd43-0f91d578143e"
      },
      "execution_count": 42,
      "outputs": [
        {
          "output_type": "stream",
          "name": "stdout",
          "text": [
            "5mtmkwum=2w=2pm=kz7x2wozixp7A\n",
            "4lsljvtl/1v/1ol/jy6w1vnyhwo6=\n",
            "3krkiusk*zu*znk*ix5vzumxgvn5/\n",
            "2jqjhtrj-yt-ymj-hw4uytlwfum4*\n",
            "1ipigsqi+xs+xli+gv3txskvetl3-\n",
            "zhohfrph.wr.wkh.fu2swrjudsk2+\n",
            "ygngeqog?vq?vjg?et1rvqitcrj1.\n",
            "xfmfdpnf!up!uif!dszquphsbqiz?\n",
            "welecome to the cryptography!\n",
            "vdkdbnld0sn0sgd0bqxosnfqZogx \n",
            "ucjcamkc9rm9rfc9apwnrmepYnfw0\n",
            "tbibZljb8ql8qeb8ZovmqldoXmev9\n",
            "sahaYkia7pk7pda7YnulpkcnWldu8\n",
            "rZgZXjhZ6oj6ocZ6XmtkojbmVkct7\n",
            "qYfYWigY5ni5nbY5WlsjnialUjbs6\n",
            "pXeXVhfX4mh4maX4VkrimhZkTiar5\n",
            "oWdWUgeW3lg3lZW3UjqhlgYjShZq4\n",
            "nVcVTfdV2kf2kYV2TipgkfXiRgYp3\n",
            "mUbUSecU1je1jXU1ShofjeWhQfXo2\n",
            "lTaTRdbTzidziWTzRgneidVgPeWn1\n"
          ]
        }
      ]
    },
    {
      "cell_type": "markdown",
      "source": [
        "### TranspositionCipher exercise\n"
      ],
      "metadata": {
        "id": "pA7JJOKFFIQ3"
      }
    },
    {
      "cell_type": "code",
      "source": [
        "def transpositionCipher(text, key, mode):\n",
        "  translatedText = ''\n",
        "  if(mode == 'encrypt'):\n",
        "    for column in range(key):\n",
        "      currentIndex = column\n",
        "      while currentIndex < len(text):\n",
        "        translatedText += text[currentIndex]\n",
        "        currentIndex += key\n",
        "    return translatedText\n",
        "\n",
        "  elif(mode == 'decrypt'):\n",
        "\n",
        "    numOfColumns = int(math.ceil(len(text) / float(key)))\n",
        "    numOfRows = key\n",
        "\n",
        "    # The number of \"shaded boxes\" in the last \"column\" of the grid:\n",
        "    numOfShadedBoxes = (numOfColumns * numOfRows) - len(text)\n",
        "    # Each string in plaintext represents a column in the grid.\n",
        "    plaintext = [''] * numOfColumns\n",
        "    column = 0\n",
        "    row = 0\n",
        "\n",
        "    for symbol in text:\n",
        "      plaintext[column] += symbol\n",
        "      column += 1\n",
        "      if (column == numOfColumns) or (column == numOfColumns - 1 and row >= numOfRows - numOfShadedBoxes):\n",
        "            column = 0\n",
        "            row += 1\n",
        "\n",
        "    return \"\".join(plaintext)"
      ],
      "metadata": {
        "id": "JGotYiDTFMx2"
      },
      "execution_count": 58,
      "outputs": []
    },
    {
      "cell_type": "code",
      "source": [
        "print(transpositionCipher(plaintext, key, mode[0]))"
      ],
      "metadata": {
        "colab": {
          "base_uri": "https://localhost:8080/"
        },
        "id": "EW3rtRT3Gx4R",
        "outputId": "c036a688-b325-48a9-e766-8f37958f567b"
      },
      "execution_count": 60,
      "outputs": [
        {
          "output_type": "stream",
          "name": "stdout",
          "text": [
            "w caetrployhe pyctt!ohomege r\n"
          ]
        }
      ]
    }
  ]
}