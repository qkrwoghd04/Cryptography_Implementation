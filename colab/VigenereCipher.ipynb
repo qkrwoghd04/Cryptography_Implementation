{
  "nbformat": 4,
  "nbformat_minor": 0,
  "metadata": {
    "colab": {
      "provenance": [],
      "authorship_tag": "ABX9TyNYpEzGqBnN4EN0VRA8byow",
      "include_colab_link": true
    },
    "kernelspec": {
      "name": "python3",
      "display_name": "Python 3"
    },
    "language_info": {
      "name": "python"
    }
  },
  "cells": [
    {
      "cell_type": "markdown",
      "metadata": {
        "id": "view-in-github",
        "colab_type": "text"
      },
      "source": [
        "<a href=\"https://colab.research.google.com/github/qkrwoghd04/Cryptography_Implementation/blob/main/colab/VigenereCipher.ipynb\" target=\"_parent\"><img src=\"https://colab.research.google.com/assets/colab-badge.svg\" alt=\"Open In Colab\"/></a>"
      ]
    },
    {
      "cell_type": "code",
      "source": [
        "from google.colab import drive\n",
        "drive.mount('/content/drive')"
      ],
      "metadata": {
        "colab": {
          "base_uri": "https://localhost:8080/"
        },
        "id": "EZaA0XjRVkkA",
        "outputId": "fbeb6ffc-b94d-4645-f8c0-d21ec94c358b"
      },
      "execution_count": 2,
      "outputs": [
        {
          "output_type": "stream",
          "name": "stdout",
          "text": [
            "Mounted at /content/drive\n"
          ]
        }
      ]
    },
    {
      "cell_type": "code",
      "source": [
        "LETTERS = 'ABCDEFGHIJKLMNOPQRSTUVWXYZ'\n",
        "PLAINTEXT = 'Learn Cryptography with fun!'\n",
        "KEY = 'EOSLCFW'\n",
        "CYPHERTEXT = ''"
      ],
      "metadata": {
        "id": "JppmzuIWVnRC"
      },
      "execution_count": 50,
      "outputs": []
    },
    {
      "cell_type": "code",
      "source": [
        "key = []\n",
        "for i in range(len(PLAINTEXT)):\n",
        "  key.append(KEY[i % len(KEY)])\n",
        "print(key)"
      ],
      "metadata": {
        "colab": {
          "base_uri": "https://localhost:8080/"
        },
        "id": "EJ-1iwgkV901",
        "outputId": "ba041270-9260-42ca-86d1-cebc46e90160"
      },
      "execution_count": 51,
      "outputs": [
        {
          "output_type": "stream",
          "name": "stdout",
          "text": [
            "['E', 'O', 'S', 'L', 'C', 'F', 'W', 'E', 'O', 'S', 'L', 'C', 'F', 'W', 'E', 'O', 'S', 'L', 'C', 'F', 'W', 'E', 'O', 'S', 'L', 'C', 'F', 'W']\n"
          ]
        }
      ]
    },
    {
      "cell_type": "code",
      "source": [
        "PLAINTEXT = PLAINTEXT.upper()\n",
        "PLAINTEXT"
      ],
      "metadata": {
        "colab": {
          "base_uri": "https://localhost:8080/",
          "height": 35
        },
        "id": "11Uh70bta8oe",
        "outputId": "42a80fed-ff6b-48fe-c010-570da6a60072"
      },
      "execution_count": 52,
      "outputs": [
        {
          "output_type": "execute_result",
          "data": {
            "text/plain": [
              "'LEARN CRYPTOGRAPHY WITH FUN!'"
            ],
            "application/vnd.google.colaboratory.intrinsic+json": {
              "type": "string"
            }
          },
          "metadata": {},
          "execution_count": 52
        }
      ]
    },
    {
      "cell_type": "code",
      "source": [
        "plaintext = []\n",
        "for i in range(len(PLAINTEXT)):\n",
        "  plaintext.append(PLAINTEXT[i])\n",
        "print(plaintext)"
      ],
      "metadata": {
        "colab": {
          "base_uri": "https://localhost:8080/"
        },
        "id": "AOOtYHKqaftt",
        "outputId": "062c46a6-1701-494d-8e96-534711ccffa5"
      },
      "execution_count": 53,
      "outputs": [
        {
          "output_type": "stream",
          "name": "stdout",
          "text": [
            "['L', 'E', 'A', 'R', 'N', ' ', 'C', 'R', 'Y', 'P', 'T', 'O', 'G', 'R', 'A', 'P', 'H', 'Y', ' ', 'W', 'I', 'T', 'H', ' ', 'F', 'U', 'N', '!']\n"
          ]
        }
      ]
    },
    {
      "cell_type": "code",
      "source": [
        "plainIndex = 0\n",
        "keyIndex = 0\n",
        "for i in range(len(plaintext)):\n",
        "  plainIndex = LETTERS.find(plaintext[i])\n",
        "  keyIndex = LETTERS.find(key[i])\n",
        "  if plainIndex == -1:\n",
        "    CYPHERTEXT += plaintext[i]\n",
        "    continue\n",
        "  CYPHERTEXT += LETTERS[(plainIndex + keyIndex) % 26]\n",
        "print(CYPHERTEXT)\n"
      ],
      "metadata": {
        "colab": {
          "base_uri": "https://localhost:8080/"
        },
        "id": "sEOCdqHzcj4x",
        "outputId": "24f6860a-f68f-4d54-eb49-62fea60a07d8"
      },
      "execution_count": 55,
      "outputs": [
        {
          "output_type": "stream",
          "name": "stdout",
          "text": [
            "PSSCP YVMHEQLNEDZJ BEXV QWS!\n"
          ]
        }
      ]
    },
    {
      "cell_type": "code",
      "source": [
        "def decrypt(ciphertext, key):\n",
        "  decrypted = ''\n",
        "  ciphertextIndex = 0\n",
        "  keyIndex = 0\n",
        "  for i in range(len(ciphertext)):\n",
        "    ciphertextIndex = LETTERS.find(ciphertext[i])\n",
        "    keyIndex = LETTERS.find(key[i])\n",
        "    if ciphertextIndex == -1:\n",
        "      decrypted += ciphertext[i]\n",
        "      continue\n",
        "    decrypted += LETTERS[(ciphertextIndex - keyIndex) % 26]\n",
        "  return decrypted\n",
        "decrypted = decrypt(CYPHERTEXT, key)\n",
        "print(decrypted)"
      ],
      "metadata": {
        "colab": {
          "base_uri": "https://localhost:8080/"
        },
        "id": "z2hVXuTMeD3C",
        "outputId": "c8779684-bdd0-47bb-fa51-f6fb23f987c8"
      },
      "execution_count": 64,
      "outputs": [
        {
          "output_type": "stream",
          "name": "stdout",
          "text": [
            "LEARN CRYPTOGRAPHY WITH FUN!\n"
          ]
        }
      ]
    },
    {
      "cell_type": "code",
      "source": [
        "from collections import Counter\n",
        "# 알파벳 빈도 분석\n",
        "ciphertext = 'PSSCP YVMHEQLNEDZJ BEXV QWS!'\n",
        "letter_freq = Counter(ciphertext)\n",
        "print(letter_freq)\n",
        "most_common_letter = letter_freq.most_common(1)[0][0]\n",
        "\n",
        "# 'E'로 가정하여 키 계산\n",
        "key = (ord(most_common_letter) - ord('E')) % 26\n",
        "\n",
        "# 암호 해독\n",
        "plaintext = \"\"\n",
        "for char in ciphertext:\n",
        "    if char.isalpha():\n",
        "        decrypted_char = chr((ord(char.upper()) - ord('A') - key) % 26 + ord('A'))\n",
        "        if char.islower():\n",
        "            decrypted_char = decrypted_char.lower()\n",
        "        plaintext += decrypted_char\n",
        "    else:\n",
        "        plaintext += char\n",
        "\n",
        "print(\"키 추정 결과:\", key)\n",
        "print(\"해독된 평문:\", plaintext)"
      ],
      "metadata": {
        "colab": {
          "base_uri": "https://localhost:8080/"
        },
        "id": "6p1m01EFjWuZ",
        "outputId": "9be7ef2d-406b-4b8a-f6d1-f21e8117c303"
      },
      "execution_count": 72,
      "outputs": [
        {
          "output_type": "stream",
          "name": "stdout",
          "text": [
            "Counter({'S': 3, ' ': 3, 'E': 3, 'P': 2, 'V': 2, 'Q': 2, 'C': 1, 'Y': 1, 'M': 1, 'H': 1, 'L': 1, 'N': 1, 'D': 1, 'Z': 1, 'J': 1, 'B': 1, 'X': 1, 'W': 1, '!': 1})\n",
            "키 추정 결과: 14\n",
            "해독된 평문: BEEOB KHYTQCXZQPLV NQJH CIE!\n"
          ]
        }
      ]
    }
  ]
}