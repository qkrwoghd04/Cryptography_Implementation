{
  "nbformat": 4,
  "nbformat_minor": 0,
  "metadata": {
    "colab": {
      "provenance": [],
      "mount_file_id": "1-s2Kk0KLpJTEXcU_uuEkFtzyYNwHQ30a",
      "authorship_tag": "ABX9TyP8EOcI+HqpEofkRNYleYYA",
      "include_colab_link": true
    },
    "kernelspec": {
      "name": "python3",
      "display_name": "Python 3"
    },
    "language_info": {
      "name": "python"
    }
  },
  "cells": [
    {
      "cell_type": "markdown",
      "metadata": {
        "id": "view-in-github",
        "colab_type": "text"
      },
      "source": [
        "<a href=\"https://colab.research.google.com/github/qkrwoghd04/Cryptography_Implementation/blob/main/colab/AES(Advanced_Encryption_Standard)_practice.ipynb\" target=\"_parent\"><img src=\"https://colab.research.google.com/assets/colab-badge.svg\" alt=\"Open In Colab\"/></a>"
      ]
    },
    {
      "cell_type": "code",
      "execution_count": 3,
      "metadata": {
        "colab": {
          "base_uri": "https://localhost:8080/"
        },
        "id": "vomInnkR3uRE",
        "outputId": "744a814a-f8d7-41b3-9d0f-8026bed81708"
      },
      "outputs": [
        {
          "output_type": "stream",
          "name": "stdout",
          "text": [
            "Requirement already satisfied: pycryptodome in /usr/local/lib/python3.10/dist-packages (3.20.0)\n"
          ]
        }
      ],
      "source": [
        "!pip install pycryptodome"
      ]
    },
    {
      "cell_type": "markdown",
      "source": [
        "### **AES(Advanced Encryption Standard)**는 Symmetric block cipher로서 substitution과 permitation으로 나뉘어 있는데,\n",
        "- **substitution**은 subBytes를 의미하고, <br>\n",
        "- **permitation** 은 shiftRows & Mix columns 단계를 의미합니다. <br>\n",
        "그리고 마지막으로 Add round key를 수행하는 것이 하나의 round로서 <br>\n",
        "128 는 10 round, 192는 12 round, 256 은 14 round를 반복합니다.\n"
      ],
      "metadata": {
        "id": "XL0IaA66ZyaS"
      }
    },
    {
      "cell_type": "code",
      "source": [
        "from Crypto.Cipher import AES, DES\n",
        "from Crypto.Random import get_random_bytes\n",
        "\n",
        "plaintext = 'Learn cryptography with fun!'\n",
        "\n",
        "# Add paddings to the plaintext so that the length is multiple of the cipher block size.\n",
        "pad_len = AES.block_size - (len(plaintext) % AES.block_size)\n",
        "\n",
        "print(f'Length of plaintext:{len(plaintext)}, Length of AES.block_size: {AES.block_size}, pad_len: {pad_len}')"
      ],
      "metadata": {
        "colab": {
          "base_uri": "https://localhost:8080/"
        },
        "id": "bXRJcUBo4UZp",
        "outputId": "12b9a9c0-8793-499c-b85e-83ba822db0f0"
      },
      "execution_count": 31,
      "outputs": [
        {
          "output_type": "stream",
          "name": "stdout",
          "text": [
            "Length of plaintext:28, Length of AES.block_size: 16, pad_len: 4\n"
          ]
        }
      ]
    },
    {
      "cell_type": "code",
      "source": [
        "if pad_len != 0:\n",
        "    plaintext = plaintext + chr(pad_len)*pad_len # AES.block_size 는 16 바이트로서 16의 배수가 아니라면 padding 작업을 통해서 16에 배수를 맞춰준다\n",
        "print(chr(pad_len).encode('utf-8'))\n",
        "print(plaintext.encode('utf-8'))"
      ],
      "metadata": {
        "colab": {
          "base_uri": "https://localhost:8080/"
        },
        "id": "DVRcN8RBFdYN",
        "outputId": "c9e60134-52ae-43b3-d66e-4ace25b0793c"
      },
      "execution_count": 32,
      "outputs": [
        {
          "output_type": "stream",
          "name": "stdout",
          "text": [
            "b'\\x04'\n",
            "b'Learn cryptography with fun!\\x04\\x04\\x04\\x04'\n"
          ]
        }
      ]
    },
    {
      "cell_type": "code",
      "source": [
        "# Let's assume that the key and iv are somehow available. Alternatively, you can generate the them using get_random_bytes()\n",
        "# In real life, the key is negotiated between the encrypting and the decrypting entities. The iv must be “unpredictable”, in other words, randomly generated before the encryption starts.\n",
        "key = get_random_bytes(16)\n",
        "iv = get_random_bytes(16)\n",
        "print(f'key is assigned by random_bytes function:{key}')\n",
        "print(f'iv is assigned by random_bytes function:{iv}')\n",
        "\n",
        "\n",
        "cipher = AES.new(key, AES.MODE_CBC, iv) #cipher block chaining\n",
        "ciphertext = cipher.encrypt(plaintext.encode('utf-8'))\n",
        "\n",
        "# cipher = AES.new(key_random, AES.MODE_ECB)\n",
        "# ciphertext = cipher.encrypt(plaintext.encode('utf-8')) #electronic codebook\n",
        "\n",
        "print (\"The ciphertext is: \\n\" + str(ciphertext))"
      ],
      "metadata": {
        "colab": {
          "base_uri": "https://localhost:8080/"
        },
        "id": "HDjoerWHEnDs",
        "outputId": "df78569a-0390-4491-f16b-c0064d85e52e"
      },
      "execution_count": 34,
      "outputs": [
        {
          "output_type": "stream",
          "name": "stdout",
          "text": [
            "key is assigned by random_bytes function:b'\\xd8\\xd62\\xa5\\xc328\\x14Is0,\\xba\\xba\\x0b\\xda'\n",
            "iv is assigned by random_bytes function:b\"\\xf4\\xe3'\\x98\\x9e\\x04K\\xf1\\xc9\\xd3{p\\x1d\\xfd}\\xc1\"\n",
            "The ciphertext is: \n",
            "b'Uk\\xbb\\xf5\\xa1h\\xacS\\xa3\\xe3<\\xbbe`\\xb8\\x87\\xc8lB\\x87\\x14,$\\r\\xd5\\xbe ]@\\xd8o\\xed'\n"
          ]
        }
      ]
    },
    {
      "cell_type": "code",
      "source": [
        "cipher = AES.new(key, AES.MODE_CBC, iv)\n",
        "plaintext_pad = cipher.decrypt(ciphertext).decode(\"utf-8\")\n",
        "\n",
        "# Reove paddings from the plaintext\n",
        "pad = ord(plaintext_pad[-1]) # ord() 주어진 문자의 정수를 반환\n",
        "plaintext = plaintext_pad[:-pad]\n",
        "\n",
        "print(\"The plaintext is: \\n\" + plaintext)"
      ],
      "metadata": {
        "colab": {
          "base_uri": "https://localhost:8080/"
        },
        "id": "SHRdKDg4Yxwm",
        "outputId": "a5f948de-41ee-4ff2-c1a2-74ad057a2288"
      },
      "execution_count": 35,
      "outputs": [
        {
          "output_type": "stream",
          "name": "stdout",
          "text": [
            "The plaintext is: \n",
            "Learn cryptography with fun!\n"
          ]
        }
      ]
    }
  ]
}