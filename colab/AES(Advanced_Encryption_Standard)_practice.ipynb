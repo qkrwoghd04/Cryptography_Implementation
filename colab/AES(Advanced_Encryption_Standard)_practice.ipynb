{
  "nbformat": 4,
  "nbformat_minor": 0,
  "metadata": {
    "colab": {
      "provenance": [],
      "mount_file_id": "1-s2Kk0KLpJTEXcU_uuEkFtzyYNwHQ30a",
      "authorship_tag": "ABX9TyNNZ3fD3rj1L6RcsphJHvkT",
      "include_colab_link": true
    },
    "kernelspec": {
      "name": "python3",
      "display_name": "Python 3"
    },
    "language_info": {
      "name": "python"
    }
  },
  "cells": [
    {
      "cell_type": "markdown",
      "metadata": {
        "id": "view-in-github",
        "colab_type": "text"
      },
      "source": [
        "<a href=\"https://colab.research.google.com/github/qkrwoghd04/Cryptography_Implementation/blob/main/colab/AES(Advanced_Encryption_Standard)_practice.ipynb\" target=\"_parent\"><img src=\"https://colab.research.google.com/assets/colab-badge.svg\" alt=\"Open In Colab\"/></a>"
      ]
    },
    {
      "cell_type": "code",
      "execution_count": null,
      "metadata": {
        "colab": {
          "base_uri": "https://localhost:8080/"
        },
        "id": "vomInnkR3uRE",
        "outputId": "744a814a-f8d7-41b3-9d0f-8026bed81708"
      },
      "outputs": [
        {
          "output_type": "stream",
          "name": "stdout",
          "text": [
            "Requirement already satisfied: pycryptodome in /usr/local/lib/python3.10/dist-packages (3.20.0)\n"
          ]
        }
      ],
      "source": [
        "!pip install pycryptodome"
      ]
    },
    {
      "cell_type": "markdown",
      "source": [
        "### **AES(Advanced Encryption Standard)**는 Symmetric block cipher로서 substitution과 permitation으로 나뉘어 있는데,\n",
        "- **substitution**은 subBytes를 의미하고, <br>\n",
        "- **permitation** 은 shiftRows & Mix columns 단계를 의미합니다. <br>\n",
        "그리고 마지막으로 Add round key를 수행하는 것이 하나의 round로서 <br>\n",
        "128 는 10 round, 192는 12 round, 256 은 14 round를 반복합니다.\n"
      ],
      "metadata": {
        "id": "XL0IaA66ZyaS"
      }
    },
    {
      "cell_type": "code",
      "source": [
        "from Crypto.Cipher import AES, DES\n",
        "from Crypto.Random import get_random_bytes\n",
        "\n",
        "plaintext = 'Learn cryptography with fun!'\n",
        "\n",
        "# Add paddings to the plaintext so that the length is multiple of the cipher block size.\n",
        "pad_len = AES.block_size - (len(plaintext) % AES.block_size)\n",
        "\n",
        "print(f'Length of plaintext:{len(plaintext)}, Length of AES.block_size: {AES.block_size}, pad_len: {pad_len}')"
      ],
      "metadata": {
        "colab": {
          "base_uri": "https://localhost:8080/"
        },
        "id": "bXRJcUBo4UZp",
        "outputId": "12b9a9c0-8793-499c-b85e-83ba822db0f0"
      },
      "execution_count": null,
      "outputs": [
        {
          "output_type": "stream",
          "name": "stdout",
          "text": [
            "Length of plaintext:28, Length of AES.block_size: 16, pad_len: 4\n"
          ]
        }
      ]
    },
    {
      "cell_type": "code",
      "source": [
        "if pad_len != 0:\n",
        "    plaintext = plaintext + chr(pad_len)*pad_len # AES.block_size 는 16 바이트로서 16의 배수가 아니라면 padding 작업을 통해서 16에 배수를 맞춰준다\n",
        "print(chr(pad_len).encode('utf-8'))\n",
        "print(plaintext.encode('utf-8'))"
      ],
      "metadata": {
        "colab": {
          "base_uri": "https://localhost:8080/"
        },
        "id": "DVRcN8RBFdYN",
        "outputId": "c9e60134-52ae-43b3-d66e-4ace25b0793c"
      },
      "execution_count": null,
      "outputs": [
        {
          "output_type": "stream",
          "name": "stdout",
          "text": [
            "b'\\x04'\n",
            "b'Learn cryptography with fun!\\x04\\x04\\x04\\x04'\n"
          ]
        }
      ]
    },
    {
      "cell_type": "code",
      "source": [
        "# Let's assume that the key and iv are somehow available. Alternatively, you can generate the them using get_random_bytes()\n",
        "# In real life, the key is negotiated between the encrypting and the decrypting entities. The iv must be “unpredictable”, in other words, randomly generated before the encryption starts.\n",
        "key = get_random_bytes(16)\n",
        "iv = get_random_bytes(16)\n",
        "print(f'key is assigned by random_bytes function:{key}')\n",
        "print(f'iv is assigned by random_bytes function:{iv}')\n",
        "\n",
        "\n",
        "cipher = AES.new(key, AES.MODE_CBC, iv) #cipher block chaining\n",
        "ciphertext = cipher.encrypt(plaintext.encode('utf-8'))\n",
        "\n",
        "# cipher = AES.new(key_random, AES.MODE_ECB)\n",
        "# ciphertext = cipher.encrypt(plaintext.encode('utf-8')) #electronic codebook\n",
        "\n",
        "print (\"The ciphertext is: \\n\" + str(ciphertext))"
      ],
      "metadata": {
        "colab": {
          "base_uri": "https://localhost:8080/"
        },
        "id": "HDjoerWHEnDs",
        "outputId": "df78569a-0390-4491-f16b-c0064d85e52e"
      },
      "execution_count": null,
      "outputs": [
        {
          "output_type": "stream",
          "name": "stdout",
          "text": [
            "key is assigned by random_bytes function:b'\\xd8\\xd62\\xa5\\xc328\\x14Is0,\\xba\\xba\\x0b\\xda'\n",
            "iv is assigned by random_bytes function:b\"\\xf4\\xe3'\\x98\\x9e\\x04K\\xf1\\xc9\\xd3{p\\x1d\\xfd}\\xc1\"\n",
            "The ciphertext is: \n",
            "b'Uk\\xbb\\xf5\\xa1h\\xacS\\xa3\\xe3<\\xbbe`\\xb8\\x87\\xc8lB\\x87\\x14,$\\r\\xd5\\xbe ]@\\xd8o\\xed'\n"
          ]
        }
      ]
    },
    {
      "cell_type": "code",
      "source": [
        "cipher = AES.new(key, AES.MODE_CBC, iv)\n",
        "plaintext_pad = cipher.decrypt(ciphertext).decode(\"utf-8\")\n",
        "\n",
        "# Reove paddings from the plaintext\n",
        "pad = ord(plaintext_pad[-1]) # ord() 주어진 문자의 정수를 반환\n",
        "plaintext = plaintext_pad[:-pad]\n",
        "\n",
        "print(\"The plaintext is: \\n\" + plaintext)"
      ],
      "metadata": {
        "colab": {
          "base_uri": "https://localhost:8080/"
        },
        "id": "SHRdKDg4Yxwm",
        "outputId": "a5f948de-41ee-4ff2-c1a2-74ad057a2288"
      },
      "execution_count": null,
      "outputs": [
        {
          "output_type": "stream",
          "name": "stdout",
          "text": [
            "The plaintext is: \n",
            "Learn cryptography with fun!\n"
          ]
        }
      ]
    },
    {
      "cell_type": "markdown",
      "source": [
        "## RSA 암호화\n",
        "RSA 암호화 과정은 다음과 같습니다:\n",
        "\n",
        "- **m**: 평문 또는 메시지를 나타내는 양수 정수입니다. 조건 `0 < m < n`을 만족해야 합니다.\n",
        "- **e**: 공개 지수로, 암호화 키의 일부입니다. 일반적으로 소수이며, 보통 3, 17 또는 65537이 사용됩니다.\n",
        "- **n**: 모듈러로, 암호화 키의 일부입니다. 큰 합성수로, 두 개의 큰 소수 p와 q의 곱, 즉 `n = p × q`로 나타낼 수 있습니다.\n",
        "- **c**: 암호문 또는 암호화된 메시지를 나타내는 양수 정수입니다. 암호문은 보통 큰 수이며, 다음 수식을 통해 계산됩니다:\n",
        "  $$\n",
        "  c = m^e \\mod n\n",
        "  $$\n",
        "\n",
        "## RSA 복호화\n",
        "RSA 복호화 과정은 다음과 같습니다:\n",
        "\n",
        "- **c**: 암호문 또는 암호화된 메시지를 나타내는 양수 정수입니다. 암호문은 보통 큰 수입니다.\n",
        "- **d**: 개인 키의 일부로, 복호화 키의 지수입니다. **d**는 **e**에 대한 역원이며, 다음을 만족해야 합니다:\n",
        "  $$\n",
        "  d \\times e \\equiv 1 \\mod \\phi(n)\n",
        "  $$\n",
        "  여기서, $\\phi(n) = (p - 1) \\times (q - 1)$은 오일러 피 함수입니다.\n",
        "- **n**: 모듈러로, 복호화 키의 일부입니다. 암호화에 사용된 **n**과 동일합니다.\n",
        "- **m**: 평문 또는 복호화된 메시지를 나타내는 양수 정수입니다. 다음 수식을 통해 계산됩니다:\n",
        "  $$\n",
        "  m = c^d \\mod n\n",
        "  $$"
      ],
      "metadata": {
        "id": "VnZYTRkYf9kk"
      }
    },
    {
      "cell_type": "code",
      "source": [
        "from Crypto.PublicKey import RSA\n",
        "from Crypto.Cipher import PKCS1_OAEP\n",
        "\n",
        "plaintext = \"Learn Cryptography with fun!\".encode(\"utf-8\")\n",
        "\n",
        "public_key = RSA.import_key(open(\"./drive/MyDrive/Colab Notebooks/cryptography/RSA keyset/pub_key.pem\").read())"
      ],
      "metadata": {
        "id": "b4LPp2xTgNZi"
      },
      "execution_count": 38,
      "outputs": []
    },
    {
      "cell_type": "code",
      "source": [
        "# Encrypt the data with the public RSA key\n",
        "cipher = PKCS1_OAEP.new(public_key)\n",
        "ciphertext = cipher.encrypt(plaintext)\n",
        "\n",
        "print (\"The ciphertext is:\")\n",
        "print (ciphertext)"
      ],
      "metadata": {
        "colab": {
          "base_uri": "https://localhost:8080/"
        },
        "id": "c7NVqR1vgQny",
        "outputId": "0c07fd09-e333-447b-c88e-4e1cad7af2a8"
      },
      "execution_count": 39,
      "outputs": [
        {
          "output_type": "stream",
          "name": "stdout",
          "text": [
            "The ciphertext is:\n",
            "b'\\\\ L,\\x11\\xe4\\xca\\xa5k\\xdfR\\xeaZk9+\\xf9\\x94\\x1f8\\xf0\\xe9\\x1e\\xa9\\x89\\x14d0\\x025\\x04\\xaa?\\n7+!<|\\xa9\\xf0\\xa0\\xba|\\xce\\x8cI\\x8e\\x92\\xe1\\xadb@I\\xf2\\x8d\\x04J\\x9c%\\xa3\\x83\\x97\\x01n\\n@\\x8b\\x1d\\x8d9\\xe2\\x86\\xb6\\x14s\\\\Z\\xbd\\xe7|\\xb5\\xf6\\x0b\\xb4\\x04<\\xc14~\\x8dk84\\x8dR\\x17TT\\x15Y\\x87\\x1e,Xi\\xf2\\xa0\\xb3\\\\\\x14?\\xbe\\xe0\\xb7#( Ng\\xcbz5\\xc5\\x17\\xe1W=Z~\\xd0\\x0e\\xfd\\x94\\xca\\xf1\\xfb\\xa5\"]D%\\x8c\\x1f\\\\V\\xf2a=\\x93V\\xc0e Y<~\\xfa\\xdbaZ{\\xe5\\x06\\x95\\xab\\xa0\\x85\\xed\\x9a\\x89Z\\xcd@\\xdc\\x8ed\\xc7\\xdf\\xd8\\x80P\\xa2s\\xa1\\x91\\xf1;\\xa4\\x8a\\xc9\\x9b\\xdeL\\xc4\\x9e\\x05\\xa8\\xd6\\xbf\\xf9\\x9bi\\xe4\\x86\\x9a\\xe6\\xd3\\x85\\x97\\x04\\xec\\xa6w\\x9aXr\\xa7\\x0cE*\\x89 \\xae\\xac\\xeas\\xba\\xa6\\xd1\\x85\\x99F\\xe9\\x87\\x94iq\\x1a\\xb4\\xac19Y\\xae\\xf15O\\xe1\\xc8\\xa3\\xb0\\xafZ\\x93\\xb2'\n"
          ]
        }
      ]
    },
    {
      "cell_type": "code",
      "source": [
        "private_key = RSA.import_key(open(\"./drive/MyDrive/Colab Notebooks/cryptography/RSA keyset/priv_key.pem\").read())"
      ],
      "metadata": {
        "id": "pG5-UydphSXy"
      },
      "execution_count": 43,
      "outputs": []
    },
    {
      "cell_type": "code",
      "source": [
        "cipher = PKCS1_OAEP.new(private_key)\n",
        "plaintext = cipher.decrypt(ciphertext)"
      ],
      "metadata": {
        "id": "rVR0UMWvhh5-"
      },
      "execution_count": 44,
      "outputs": []
    },
    {
      "cell_type": "code",
      "source": [
        "print(\"The plaintext is \\n\" + str(plaintext,'utf-8'))"
      ],
      "metadata": {
        "colab": {
          "base_uri": "https://localhost:8080/"
        },
        "id": "iPG8Q2L8hjeo",
        "outputId": "1af3bd8c-3d66-4b4d-ae59-1888f1412a51"
      },
      "execution_count": 46,
      "outputs": [
        {
          "output_type": "stream",
          "name": "stdout",
          "text": [
            "The plaintext is \n",
            "Learn Cryptography with fun!\n"
          ]
        }
      ]
    },
    {
      "cell_type": "markdown",
      "source": [
        "### Alice와 Bob 사이의 안전한 통신을 위해 암호화 라이브러리를 사용해 프로그램 작성하기"
      ],
      "metadata": {
        "id": "sUTfTb7xlAPM"
      }
    },
    {
      "cell_type": "code",
      "source": [
        "from Crypto.Util.Padding import pad, unpad\n",
        "from Crypto.Hash import HMAC, SHA256"
      ],
      "metadata": {
        "id": "cZQdPtiPk_Js"
      },
      "execution_count": 47,
      "outputs": []
    },
    {
      "cell_type": "code",
      "source": [
        "def create_session_key():\n",
        "  return get_random_bytes(32);"
      ],
      "metadata": {
        "id": "zck9nZ2ClNvP"
      },
      "execution_count": 91,
      "outputs": []
    },
    {
      "cell_type": "code",
      "source": [
        "def encrypt_message(key, plaintext):\n",
        "    # 데이터 암호화\n",
        "    iv = get_random_bytes(AES.block_size)  # 정확히 16 바이트 IV 생성\n",
        "    cipher = AES.new(key, AES.MODE_CBC, iv)\n",
        "    encrypted_data = cipher.encrypt(pad(plaintext.encode('utf-8'), AES.block_size))\n",
        "    return iv + encrypted_data  # IV와 암호화된 데이터를 하나의 바이트열로 반환\n"
      ],
      "metadata": {
        "id": "PsGwCv2AlYDC"
      },
      "execution_count": 95,
      "outputs": []
    },
    {
      "cell_type": "code",
      "source": [
        "def decrypt_message(key, encrypted_message):\n",
        "    # 암호화된 메시지 복호화\n",
        "    iv = encrypted_message[:AES.block_size]  # 정확히 16 바이트로 IV 추출\n",
        "    encrypted_data = encrypted_message[AES.block_size:]\n",
        "    cipher = AES.new(key, AES.MODE_CBC, iv)\n",
        "    plaintext = unpad(cipher.decrypt(encrypted_data), AES.block_size)\n",
        "    return plaintext"
      ],
      "metadata": {
        "id": "CCFTasfGlqMr"
      },
      "execution_count": 96,
      "outputs": []
    },
    {
      "cell_type": "code",
      "source": [
        "# 사용 예\n",
        "key = create_session_key()\n",
        "plaintext = \"Secret message between Alice and Bob\"\n",
        "\n",
        "encrypted_message = encrypt_message(key, plaintext)\n",
        "print(\"Encrypted:\", encrypted_message)\n",
        "\n",
        "try:\n",
        "    decrypted_message = decrypt_message(key, encrypted_message)\n",
        "    print(\"Decrypted:\", decrypted_message.decode('utf-8'))\n",
        "except ValueError as e:\n",
        "    print(str(e))"
      ],
      "metadata": {
        "colab": {
          "base_uri": "https://localhost:8080/"
        },
        "id": "P7jK2iMcmOP_",
        "outputId": "2ce566cd-f072-4153-f0c4-dc1129af0eee"
      },
      "execution_count": 97,
      "outputs": [
        {
          "output_type": "stream",
          "name": "stdout",
          "text": [
            "Encrypted: b'z\\xe7V$\\x1b\\xfa\\x7f\\xd8/\\xe2\\x03\\xa8=f\\xa8\\xfc\\xa5e\\x00$\\x08\\xae\\xc1u\\xe8]F\\x1eN\\x14k\\x8c\\xde\\xae\\xb7\\x84\\n\\xac\\x98_TnA\\x7f\\xa4\\xde\\xbc\\x9cv\\x1a\\xb1\\x87\\x9e\\x88:\\x17\\xb5f\\xd8x\\xca\\xf5\\\\\\xf5'\n",
            "Decrypted: Secret message between Alice and Bob\n"
          ]
        }
      ]
    }
  ]
}